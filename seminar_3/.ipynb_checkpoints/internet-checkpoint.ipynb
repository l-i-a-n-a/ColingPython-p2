{
 "cells": [
  {
   "cell_type": "markdown",
   "id": "df58ba3a",
   "metadata": {
    "slideshow": {
     "slide_type": "slide"
    }
   },
   "source": [
    "## TCP/IP  \n",
    "\n",
    "* TCP = transmission control protocol\n",
    "* IP = Internet protocol"
   ]
  },
  {
   "cell_type": "markdown",
   "id": "ce04877d",
   "metadata": {
    "slideshow": {
     "slide_type": "slide"
    }
   },
   "source": [
    "![](https://i.ibb.co/VBPt8VC/image.png)"
   ]
  },
  {
   "cell_type": "markdown",
   "id": "021a05f6",
   "metadata": {
    "slideshow": {
     "slide_type": "slide"
    }
   },
   "source": [
    "![](https://cdn.educba.com/academy/wp-content/uploads/2019/07/TCPIP-Model.jpg)"
   ]
  },
  {
   "cell_type": "markdown",
   "id": "cdf1b2ed",
   "metadata": {
    "slideshow": {
     "slide_type": "slide"
    }
   },
   "source": [
    "![](https://upload.wikimedia.org/wikipedia/commons/7/79/TCPIP_Model.jpg)"
   ]
  },
  {
   "cell_type": "markdown",
   "id": "0188c6cb",
   "metadata": {
    "slideshow": {
     "slide_type": "slide"
    }
   },
   "source": [
    "## Уровень Application\n",
    "\n",
    "Используется конечными программами (например, веб браузером или почтовым клиентом)\n",
    "\n",
    "* HTTP\n",
    "* SMTP"
   ]
  },
  {
   "cell_type": "markdown",
   "id": "fbb40a32",
   "metadata": {
    "slideshow": {
     "slide_type": "slide"
    }
   },
   "source": [
    "![](https://i.ibb.co/LYqtrsB/image.png)"
   ]
  },
  {
   "cell_type": "markdown",
   "id": "dd9bc9e2",
   "metadata": {
    "slideshow": {
     "slide_type": "slide"
    }
   },
   "source": [
    "![](https://i.ibb.co/Tc0sXZC/image.png)"
   ]
  },
  {
   "cell_type": "markdown",
   "id": "2dbc3078",
   "metadata": {
    "slideshow": {
     "slide_type": "slide"
    }
   },
   "source": [
    "### IP (internet protocol)\n",
    "\n",
    "\n",
    "*IP* - это протокол, задача которого, основываясь на IP адресах, передать данные из источника в место назначения (вне зависимости от аппаратного обеспечения.\n",
    "\n",
    "*Маршрутизация (routing)* - процесс выбора пути движения трафика в сети."
   ]
  },
  {
   "cell_type": "markdown",
   "id": "d033335c",
   "metadata": {
    "slideshow": {
     "slide_type": "subslide"
    }
   },
   "source": [
    "### IP адрес\n",
    "\n",
    "Уникальный числовой идентификатор, такой как 192.0.2.1, подключенный к компьютерной сети, использующей IP в качестве протокола коммуникации.\n",
    "\n",
    "IPv4 (32 bit)\n",
    "\n",
    "IPv6 (128 bit)\n",
    "\n",
    "\n",
    "За назначение адресов (могут быть статичные или динамичные) девайсам, подключенным к сети, отвечают сетевы администраторы "
   ]
  },
  {
   "cell_type": "markdown",
   "id": "70a85a52",
   "metadata": {
    "slideshow": {
     "slide_type": "subslide"
    }
   },
   "source": [
    "Каждому пакету присваивается Header, чтобы их можно было собрать"
   ]
  },
  {
   "cell_type": "markdown",
   "id": "6facf26a",
   "metadata": {
    "slideshow": {
     "slide_type": "slide"
    }
   },
   "source": [
    "###  HTTP client-server\n",
    "\n",
    "* Прием \\ доставка ресурсов\n",
    "* Основа обмена данными в интернете\n"
   ]
  },
  {
   "cell_type": "markdown",
   "id": "d50342a6",
   "metadata": {
    "slideshow": {
     "slide_type": "slide"
    }
   },
   "source": [
    "![](https://developer.mozilla.org/en-US/docs/Web/HTTP/Overview/client-server-chain.png)"
   ]
  },
  {
   "cell_type": "markdown",
   "id": "1944e092",
   "metadata": {
    "slideshow": {
     "slide_type": "slide"
    }
   },
   "source": [
    "### HTTP порядок операций\n",
    "\n",
    "* Открыть TCP соединение \n",
    "* Отправить HTTP сообщение\n",
    "\n",
    "```\n",
    "GET / HTTP/1.1\n",
    "Host: developer.mozilla.org\n",
    "Accept-Language: fr\n",
    "```\n",
    "* Прочесть ответ сервера\n",
    "\n",
    "```\n",
    "HTTP/1.1 200 OK\n",
    "Date: Sat, 09 Oct 2010 14:28:02 GMT\n",
    "Server: Apache\n",
    "Last-Modified: Tue, 01 Dec 2009 20:18:22 GMT\n",
    "ETag: \"51142bc1-7449-479b075b2891b\"\n",
    "Accept-Ranges: bytes\n",
    "Content-Length: 29769\n",
    "Content-Type: text/html\n",
    "\n",
    "<!DOCTYPE html... (here come the 29769 bytes of the requested web page)\n",
    "\n",
    "```\n",
    "\n",
    "* Закрыть соединение"
   ]
  },
  {
   "cell_type": "markdown",
   "id": "9b10c094",
   "metadata": {
    "slideshow": {
     "slide_type": "slide"
    }
   },
   "source": [
    "## Два вида HTTP сообщений\n",
    "\n",
    "#### Request (запрос)\n",
    "\n",
    "![](https://developer.mozilla.org/en-US/docs/Web/HTTP/Overview/http_request.png)"
   ]
  },
  {
   "cell_type": "markdown",
   "id": "b201a794",
   "metadata": {
    "slideshow": {
     "slide_type": "slide"
    }
   },
   "source": [
    "#### Response (ответ)\n",
    "\n",
    "![](https://developer.mozilla.org/en-US/docs/Web/HTTP/Overview/http_response.png)"
   ]
  },
  {
   "cell_type": "markdown",
   "id": "0e2478c9",
   "metadata": {
    "slideshow": {
     "slide_type": "slide"
    }
   },
   "source": [
    "HTTP определяет следующую структуру запроса:\n",
    "\n",
    "    строка запроса (request line) — определяет тип сообщения\n",
    "    заголовки запроса (header fields) — характеризуют тело сообщения, параметры передачи и прочие сведения\n",
    "    тело сообщения (body) — необязательное\n",
    "\n",
    "\n",
    "HTTP определяет следующую структуру ответного сообщения (response):\n",
    "\n",
    "    строка состояния (status line), включающая код состояния и сообщение о причине\n",
    "    поля заголовка ответа (header fields)\n",
    "    дополнительное тело сообщения (body)\n"
   ]
  },
  {
   "cell_type": "markdown",
   "id": "19e36932",
   "metadata": {
    "slideshow": {
     "slide_type": "slide"
    }
   },
   "source": [
    "### Request methods (виды запросов)\n",
    "\n",
    "* __GET__: показать текущее состояние ресурса. Не должно менять состояние ресурса.\n",
    "* __POST__: обработать некоторую информацию из тела запроса. Например, создать новый пост или соврешить покупку\n",
    "* __PUT__: обновить состояние ресурса в соответствии с некоторыми данными в запросе. С указанием локации\n",
    "* __CONNECT__: установить TCP/IP тоннель с ресурсом\n",
    "\n",
    "и т.д.\n",
    ".\n",
    ".\n",
    "."
   ]
  },
  {
   "cell_type": "markdown",
   "id": "05eb3431",
   "metadata": {
    "slideshow": {
     "slide_type": "slide"
    }
   },
   "source": [
    "![](https://i.ibb.co/kgZPgyF/image.png)\n",
    "\n",
    "[wiki](https://en.wikipedia.org/wiki/Hypertext_Transfer_Protocol)"
   ]
  },
  {
   "cell_type": "markdown",
   "id": "f65cfa92",
   "metadata": {
    "slideshow": {
     "slide_type": "slide"
    }
   },
   "source": [
    "```1XX (informational)```\n",
    "    \n",
    "    The request was received, continuing process.\n",
    "\n",
    "```2XX (successful)```\n",
    "    \n",
    "    The request was successfully received, understood, and accepted.\n",
    "\n",
    "```3XX (redirection)```\n",
    "    \n",
    "    Further action needs to be taken in order to complete the request.\n",
    "\n",
    "```4XX (client error)```\n",
    "    \n",
    "    The request contains bad syntax or cannot be fulfilled.\n",
    "\n",
    "```5XX (server error)```\n",
    "    \n",
    "    The server failed to fulfill an apparently valid request."
   ]
  },
  {
   "cell_type": "code",
   "execution_count": 2,
   "id": "77cd9dfa",
   "metadata": {
    "slideshow": {
     "slide_type": "slide"
    }
   },
   "outputs": [],
   "source": [
    "from http.server import BaseHTTPRequestHandler\n",
    "from http.server import HTTPServer\n",
    "\n",
    "def run(server_class=HTTPServer, handler_class=BaseHTTPRequestHandler):\n",
    "    server_address = ('', 8000)\n",
    "    httpd = server_class(server_address, handler_class)\n",
    "    try:\n",
    "        httpd.serve_forever()\n",
    "    except KeyboardInterrupt:\n",
    "        httpd.server_close()"
   ]
  },
  {
   "cell_type": "code",
   "execution_count": 3,
   "id": "dc0d68e0",
   "metadata": {
    "slideshow": {
     "slide_type": "slide"
    }
   },
   "outputs": [],
   "source": [
    "class HttpGetHandler(BaseHTTPRequestHandler):\n",
    "\n",
    "    def do_GET(self):\n",
    "        self.send_response(200)\n",
    "        self.send_header(\"Content-type\", \"text/html\")\n",
    "        self.end_headers()\n",
    "        self.wfile.write('<html><head><meta charset=\"utf-8\">'.encode())\n",
    "        self.wfile.write('<title>Простой HTTP-сервер.</title></head>'.encode())\n",
    "        self.wfile.write('<body>Был получен GET-запрос.</body></html>'.encode())\n",
    "    \n",
    "\n",
    "# про .encode()"
   ]
  },
  {
   "cell_type": "markdown",
   "id": "bdb535ce",
   "metadata": {
    "slideshow": {
     "slide_type": "slide"
    }
   },
   "source": [
    "## API (Application Programming Interface)\n",
    "\n",
    "\n",
    "HTTP обеспечивает базовый уровень для создания веб-сервисов.\n",
    "\n",
    "Ресурс - ключевая абстракция. То, что хотим показать пользователю.\n",
    "\n",
    "* конкретные пользователи\n",
    "* задачи\n",
    "* несколько задач\n",
    "\n",
    "\n",
    "### URI ресурса (идентификатор)\n",
    "\n",
    "*    Создать пользователя: POST /users\n",
    "*    Удалить пользователя: DELETE /users/1\n",
    "*    Получить всех пользователей: GET /users\n",
    "*    Получить одного пользователя: GET /users/1\n"
   ]
  },
  {
   "cell_type": "code",
   "execution_count": null,
   "id": "d2aaa267",
   "metadata": {
    "slideshow": {
     "slide_type": "slide"
    }
   },
   "outputs": [],
   "source": [
    "from fastapi import FastAPI\n",
    "\n",
    "app = FastAPI()\n",
    "\n",
    "\n",
    "@app.get(\"/\")\n",
    "async def root():\n",
    "    return {\"message\": \"Hello World\"}"
   ]
  },
  {
   "cell_type": "code",
   "execution_count": null,
   "id": "4ad2d23f",
   "metadata": {
    "slideshow": {
     "slide_type": "slide"
    }
   },
   "outputs": [],
   "source": [
    "from fastapi import FastAPI\n",
    "\n",
    "app = FastAPI()\n",
    "\n",
    "\n",
    "@app.get(\"/items/{item_id}\")\n",
    "async def read_item(item_id):\n",
    "    return {\"item_id\": item_id}\n",
    "\n",
    "\n",
    "# типизация :\n",
    "# /docs"
   ]
  },
  {
   "cell_type": "code",
   "execution_count": null,
   "id": "ec5fb411",
   "metadata": {
    "slideshow": {
     "slide_type": "slide"
    }
   },
   "outputs": [],
   "source": [
    "from fastapi import FastAPI\n",
    "\n",
    "app = FastAPI()\n",
    "\n",
    "fake_items_db = [{\"item_name\": \"Foo\"}, {\"item_name\": \"Bar\"}, {\"item_name\": \"Baz\"}]\n",
    "\n",
    "\n",
    "@app.get(\"/items/\")\n",
    "async def read_item(skip: int = 0, limit: int = 10):\n",
    "    return fake_items_db[skip : skip + limit]"
   ]
  },
  {
   "cell_type": "code",
   "execution_count": null,
   "id": "71ddb12c",
   "metadata": {
    "slideshow": {
     "slide_type": "slide"
    }
   },
   "outputs": [],
   "source": [
    "@app.get(\"/process\")\n",
    "async def lemmatize(token):\n",
    "    return {\"lemma\": }"
   ]
  },
  {
   "cell_type": "code",
   "execution_count": null,
   "id": "7ac77678",
   "metadata": {
    "slideshow": {
     "slide_type": "slide"
    }
   },
   "outputs": [],
   "source": [
    "from typing import Optional\n",
    "\n",
    "from fastapi import FastAPI\n",
    "from pydantic import BaseModel\n",
    "\n",
    "\n",
    "class Item(BaseModel):\n",
    "    name: str\n",
    "    description: Optional[str] = None\n",
    "    price: float\n",
    "    tax: Optional[float] = None\n",
    "\n",
    "\n",
    "app = FastAPI()\n",
    "\n",
    "\n",
    "@app.post(\"/items/\")\n",
    "async def create_item(item: Item):\n",
    "    item_dict = item.dict()\n",
    "    if item.tax:\n",
    "        price_with_tax = item.price + item.tax\n",
    "        item_dict.update({\"price_with_tax\": price_with_tax})\n",
    "    return item_dict"
   ]
  }
 ],
 "metadata": {
  "celltoolbar": "Slideshow",
  "kernelspec": {
   "display_name": "Python 3 (ipykernel)",
   "language": "python",
   "name": "python3"
  },
  "language_info": {
   "codemirror_mode": {
    "name": "ipython",
    "version": 3
   },
   "file_extension": ".py",
   "mimetype": "text/x-python",
   "name": "python",
   "nbconvert_exporter": "python",
   "pygments_lexer": "ipython3",
   "version": "3.8.10"
  }
 },
 "nbformat": 4,
 "nbformat_minor": 5
}
