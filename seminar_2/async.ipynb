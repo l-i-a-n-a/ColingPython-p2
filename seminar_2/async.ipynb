{
 "cells": [
  {
   "cell_type": "markdown",
   "id": "27a39fe1",
   "metadata": {
    "slideshow": {
     "slide_type": "slide"
    }
   },
   "source": [
    "### Асинхронное программирование"
   ]
  },
  {
   "cell_type": "markdown",
   "id": "563c8653",
   "metadata": {
    "slideshow": {
     "slide_type": "slide"
    }
   },
   "source": [
    "### О чём говорили в прошлый раз?\n",
    "\n",
    "* Процессы\n",
    "* Менеджмент процессов\n",
    "* Многопроцессные приложения на Python\n",
    "* Multiprocessing (Pool)"
   ]
  },
  {
   "cell_type": "markdown",
   "id": "5ba5969c",
   "metadata": {
    "slideshow": {
     "slide_type": "subslide"
    }
   },
   "source": [
    "### План сегодняшнего занятия\n",
    "\n",
    "* Потоки\n",
    "* Многопоточные приложения\n",
    "* GIL\n",
    "* Конкуррентность vs параллельность\n",
    "* Асинхронность\n",
    "* asyncio"
   ]
  },
  {
   "cell_type": "markdown",
   "id": "9b981110",
   "metadata": {
    "slideshow": {
     "slide_type": "slide"
    }
   },
   "source": [
    "### Поток (thread)\n",
    "\n",
    "* Малейшая единица программного вычисления.\n",
    "\n",
    "* Управляется планировщиком задач (scheduler)\n",
    "\n",
    "* Создаётся быстрее, чем процесс\n",
    "\n",
    "![](https://upload.wikimedia.org/wikipedia/commons/thumb/a/a5/Multithreaded_process.svg/330px-Multithreaded_process.svg.png)"
   ]
  },
  {
   "cell_type": "markdown",
   "id": "f1ebbdaf",
   "metadata": {
    "slideshow": {
     "slide_type": "subslide"
    }
   },
   "source": [
    "### Многопоточность\n",
    "\n",
    "* Когда программа много \"ожидает\", i\\o bound tasks\n",
    "\n",
    "* Между потоками общая память\n",
    "\n",
    "* Потоки могут работать \"конкурентно\" (concurrently) с возможностью пересечения"
   ]
  },
  {
   "cell_type": "code",
   "execution_count": 1,
   "id": "8e5295b4",
   "metadata": {
    "slideshow": {
     "slide_type": "slide"
    }
   },
   "outputs": [
    {
     "name": "stdout",
     "output_type": "stream",
     "text": [
      "photo-1532009324734-20a7a5813719.jpg was downloaded...\n",
      "photo-1516117172878-fd2c41f4a759.jpg was downloaded...\n",
      "Finished in 0.734096173895523 seconds\n"
     ]
    }
   ],
   "source": [
    "import requests\n",
    "import time\n",
    "import concurrent.futures\n",
    "\n",
    "img_urls = [\n",
    "    'https://images.unsplash.com/photo-1516117172878-fd2c41f4a759',\n",
    "    'https://images.unsplash.com/photo-1532009324734-20a7a5813719',\n",
    "]\n",
    "\n",
    "t1 = time.perf_counter()\n",
    "\n",
    "\n",
    "def download_image(img_url):\n",
    "    img_bytes = requests.get(img_url).content\n",
    "    img_name = img_url.split('/')[3]\n",
    "    img_name = f'{img_name}.jpg'\n",
    "    with open(img_name, 'wb') as img_file:\n",
    "        img_file.write(img_bytes)\n",
    "        print(f'{img_name} was downloaded...')\n",
    "\n",
    "\n",
    "with concurrent.futures.ThreadPoolExecutor() as executor:\n",
    "    executor.map(download_image, img_urls)\n",
    "\n",
    "\n",
    "t2 = time.perf_counter()\n",
    "\n",
    "print(f'Finished in {t2-t1} seconds')"
   ]
  },
  {
   "cell_type": "markdown",
   "id": "10cd9232",
   "metadata": {
    "slideshow": {
     "slide_type": "slide"
    }
   },
   "source": [
    "### GIL (global interpreter lock)\n",
    "\n",
    "Только один поток за раз может управлять интерпретатором\n",
    "\n",
    "![](https://res.cloudinary.com/dyd911kmh/image/upload/f_auto,q_auto:best/v1585364510/gil2_kgyuui.png)"
   ]
  },
  {
   "cell_type": "markdown",
   "id": "a17c9b66",
   "metadata": {
    "slideshow": {
     "slide_type": "slide"
    }
   },
   "source": [
    "### Синхронность vs Асинхронность\n",
    "\n",
    "Синхронно: по одному за раз\n",
    "\n",
    "Асинхронно: выполняем следующую задачу, пока выполняется предыдущая\n",
    "\n",
    "![](https://www.koyeb.com/static/images/blog/sync-vs-async-schema.png)"
   ]
  },
  {
   "cell_type": "markdown",
   "id": "b3cb394f",
   "metadata": {
    "slideshow": {
     "slide_type": "slide"
    }
   },
   "source": [
    "Пример из шахмат:\n",
    "\n",
    "https://www.youtube.com/watch?v=iG6fr81xHKA&t=269s\n",
    "\n",
    "![](https://i.pinimg.com/originals/f6/a1/9c/f6a19cd6a24b111b7968983f3f15e4d0.jpg)"
   ]
  },
  {
   "cell_type": "markdown",
   "id": "7b40d1df",
   "metadata": {
    "slideshow": {
     "slide_type": "slide"
    }
   },
   "source": [
    "### asyncio\n",
    "\n",
    "* async \\ await\n",
    "\n",
    "* coroutines (корутины)\n",
    "\n",
    "* event loop"
   ]
  },
  {
   "cell_type": "markdown",
   "id": "95d07fdb",
   "metadata": {
    "slideshow": {
     "slide_type": "fragment"
    }
   },
   "source": [
    "Команда __await__ возвращает контроль циклу событий (event loop)"
   ]
  },
  {
   "cell_type": "code",
   "execution_count": null,
   "id": "d2f73bd2",
   "metadata": {
    "slideshow": {
     "slide_type": "fragment"
    }
   },
   "outputs": [],
   "source": [
    "async def g():\n",
    "    r = await f() # Pause here and come back to g() when f() is ready\n",
    "    return r\n"
   ]
  },
  {
   "cell_type": "markdown",
   "id": "a1a5142f",
   "metadata": {
    "slideshow": {
     "slide_type": "slide"
    }
   },
   "source": [
    "Основные вещи, которые важно понять\n",
    "\n",
    "* Как создавать асинхронные задачи (корутины, которые могут вернуть контроль циклу событий)\n",
    "\n",
    "* Как создавать цикл событий\n",
    "\n",
    "* Как подавать задачи циклу событий\n",
    "\n",
    "* Как запускать цикл событий"
   ]
  },
  {
   "cell_type": "code",
   "execution_count": 6,
   "id": "5b0b3984",
   "metadata": {
    "slideshow": {
     "slide_type": "slide"
    }
   },
   "outputs": [],
   "source": [
    "async def read_lecture(sleep_time):\n",
    "    print(\"hello\")\n",
    "    await asyncio.sleep(sleep_time)\n",
    "    print(\"...saying boring stuff...\")\n",
    "    await asyncio.sleep(sleep_time)\n",
    "    print(\"done!\")\n",
    "    return \"knowledge\"\n",
    "\n",
    "# read_lecture(1) <-- coroutine object"
   ]
  },
  {
   "cell_type": "code",
   "execution_count": null,
   "id": "86b6b8b7",
   "metadata": {
    "slideshow": {
     "slide_type": "fragment"
    }
   },
   "outputs": [],
   "source": [
    "loop = asyncio.get_event_loop()\n",
    "task_one = loop.create_task(read_lecture(1))\n",
    "loop.run_until_complete()"
   ]
  },
  {
   "cell_type": "code",
   "execution_count": null,
   "id": "cbd35067",
   "metadata": {
    "slideshow": {
     "slide_type": "slide"
    }
   },
   "outputs": [],
   "source": [
    "async def read_lecture(sleep_time):\n",
    "    print(\"hello\")\n",
    "    await asyncio.sleep(sleep_time)\n",
    "    print(\"...saying boring stuff...\")\n",
    "    await asyncio.sleep(sleep_time)\n",
    "    print(\"done!\")\n",
    "    return \"knowledge\""
   ]
  },
  {
   "cell_type": "code",
   "execution_count": null,
   "id": "22153a6c",
   "metadata": {
    "slideshow": {
     "slide_type": "fragment"
    }
   },
   "outputs": [],
   "source": [
    "async def drink_water(sleep_time):\n",
    "    print(\"first sip\")\n",
    "    await asyncio.sleep(sleep_time)\n",
    "    print(\"second_sip\")\n",
    "    return \"hydrated!\"\n",
    "\n"
   ]
  },
  {
   "cell_type": "code",
   "execution_count": null,
   "id": "d72c7c99",
   "metadata": {
    "slideshow": {
     "slide_type": "fragment"
    }
   },
   "outputs": [],
   "source": [
    "loop = asyncio.get_event_loop()\n",
    "task_one = loop.create_task(read_lecture(1))\n",
    "task_two = loop.create_task(drink_water(1))\n",
    "\n",
    "a = loop.run_until_complete(task_two)\n",
    "print(a)"
   ]
  },
  {
   "cell_type": "code",
   "execution_count": null,
   "id": "9c42eb91",
   "metadata": {
    "slideshow": {
     "slide_type": "subslide"
    }
   },
   "outputs": [],
   "source": [
    "b = loop.run_until_complete(task_one)\n",
    "print(b)"
   ]
  },
  {
   "cell_type": "code",
   "execution_count": null,
   "id": "fdb698d4",
   "metadata": {
    "slideshow": {
     "slide_type": "subslide"
    }
   },
   "outputs": [],
   "source": [
    "loop = asyncio.get_event_loop()\n",
    "task_one = loop.create_task(read_lecture(1))\n",
    "task_two = loop.create_task(drink_water(1))\n",
    "c = loop.run_until_complete(asyncio.gather(task_one, task_two))\n",
    "print(c)"
   ]
  },
  {
   "cell_type": "markdown",
   "id": "09367d18",
   "metadata": {
    "slideshow": {
     "slide_type": "slide"
    }
   },
   "source": [
    "Основные вещи, которые важно понять\n",
    "\n",
    "* Как создавать асинхронные задачи (корутины, которые могут вернуть контроль циклу событий)\n",
    "\n",
    "_async_ перед функцией (async def foo():)\n",
    "\n",
    "_await_ чтобы вернуть управление циклу событий\n",
    "\n",
    "\n",
    "* Как создавать цикл событий\n",
    "\n",
    "loop = asyncio.get_event_loop()\n",
    "\n",
    "* Как подавать задачи циклу событий\n",
    "\n",
    "task = loop.create_task(async_function())\n",
    "\n",
    "* Как запускать цикл событий\n",
    "\n",
    "loop.run_until_complete(task)"
   ]
  },
  {
   "cell_type": "code",
   "execution_count": 4,
   "id": "d44b76e1",
   "metadata": {
    "slideshow": {
     "slide_type": "slide"
    }
   },
   "outputs": [
    {
     "name": "stderr",
     "output_type": "stream",
     "text": [
      "/tmp/ipykernel_1070682/61514977.py:4: DeprecationWarning: \"@coroutine\" decorator is deprecated since Python 3.8, use \"async def\" instead\n",
      "  def py34_coro():\n"
     ]
    }
   ],
   "source": [
    "import asyncio\n",
    "\n",
    "@asyncio.coroutine\n",
    "def py34_coro():\n",
    "    \"\"\"Generator-based coroutine, older syntax\"\"\"\n",
    "    yield from stuff()\n",
    "\n",
    "async def py35_coro():\n",
    "    \"\"\"Native coroutine, modern syntax\"\"\"\n",
    "    await stuff()\n"
   ]
  },
  {
   "cell_type": "code",
   "execution_count": null,
   "id": "9d266ed8",
   "metadata": {
    "slideshow": {
     "slide_type": "subslide"
    }
   },
   "outputs": [],
   "source": [
    "loop = asyncio.get_event_loop()\n",
    "try:\n",
    "    loop.run_until_complete(main())\n",
    "finally:\n",
    "    loop.close()\n"
   ]
  },
  {
   "cell_type": "code",
   "execution_count": null,
   "id": "c3262676",
   "metadata": {
    "slideshow": {
     "slide_type": "slide"
    }
   },
   "outputs": [],
   "source": [
    "asyncio.run(main())  # Python 3.7+\n"
   ]
  },
  {
   "cell_type": "code",
   "execution_count": null,
   "id": "f690aab4",
   "metadata": {
    "slideshow": {
     "slide_type": "slide"
    }
   },
   "outputs": [],
   "source": [
    "import requests\n",
    "import time\n",
    "\n",
    "start_time = time.time()\n",
    "\n",
    "for number in range(1, 151):\n",
    "    url = f'https://pokeapi.co/api/v2/pokemon/{number}'\n",
    "    resp = requests.get(url)\n",
    "    pokemon = resp.json()\n",
    "    print(pokemon['name'])\n",
    "\n",
    "print(\"--- %s seconds ---\" % (time.time() - start_time))"
   ]
  },
  {
   "cell_type": "code",
   "execution_count": null,
   "id": "6c4b1914",
   "metadata": {
    "slideshow": {
     "slide_type": "slide"
    }
   },
   "outputs": [],
   "source": [
    "import aiohttp\n",
    "import asyncio\n",
    "\n",
    "\n",
    "async def main():\n",
    "\n",
    "    async with aiohttp.ClientSession() as session:\n",
    "        # for\n",
    "        pokemon_url = 'https://pokeapi.co/api/v2/pokemon/151'\n",
    "        async with session.get(pokemon_url) as resp:\n",
    "            pokemon = await resp.json()\n",
    "            print(pokemon['name'])\n",
    "\n",
    "asyncio.run(main())"
   ]
  },
  {
   "cell_type": "code",
   "execution_count": null,
   "id": "5703e4b4",
   "metadata": {
    "slideshow": {
     "slide_type": "slide"
    }
   },
   "outputs": [],
   "source": [
    "import aiohttp\n",
    "import asyncio\n",
    "import time\n",
    "\n",
    "start_time = time.time()\n",
    "\n",
    "\n",
    "async def get_pokemon(session, url):\n",
    "    async with session.get(url) as resp:\n",
    "        pokemon = await resp.json()\n",
    "        return pokemon['name']\n",
    "\n",
    "\n",
    "async def main():\n",
    "\n",
    "    async with aiohttp.ClientSession() as session:\n",
    "\n",
    "        tasks = []\n",
    "        for number in range(1, 151):\n",
    "            url = f'https://pokeapi.co/api/v2/pokemon/{number}'\n",
    "            tasks.append(asyncio.ensure_future(get_pokemon(session, url)))\n",
    "\n",
    "        original_pokemon = await asyncio.gather(*tasks)\n",
    "        for pokemon in original_pokemon:\n",
    "            print(pokemon)\n",
    "\n",
    "asyncio.run(main())\n",
    "print(\"--- %s seconds ---\" % (time.time() - start_time))\n"
   ]
  }
 ],
 "metadata": {
  "celltoolbar": "Slideshow",
  "kernelspec": {
   "display_name": "Python 3 (ipykernel)",
   "language": "python",
   "name": "python3"
  },
  "language_info": {
   "codemirror_mode": {
    "name": "ipython",
    "version": 3
   },
   "file_extension": ".py",
   "mimetype": "text/x-python",
   "name": "python",
   "nbconvert_exporter": "python",
   "pygments_lexer": "ipython3",
   "version": "3.8.10"
  }
 },
 "nbformat": 4,
 "nbformat_minor": 5
}
